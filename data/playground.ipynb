{
 "cells": [
  {
   "cell_type": "code",
   "execution_count": 7,
   "metadata": {},
   "outputs": [],
   "source": [
    "import pandas as pd\n",
    "\n",
    "# Load the first CSV file with the \"state\" column\n",
    "file1 = 'US Police shootings in from 2015-22 cleaned.csv'\n",
    "df1 = pd.read_csv(file1)\n",
    "\n",
    "# Load the second CSV file with the \"abbreviation\" and \"fullname\" columns\n",
    "file2 = 'states.csv'\n",
    "df2 = pd.read_csv(file2)\n",
    "\n",
    "# Merge the two dataframes based on the \"state\" and \"abbreviation\" columns\n",
    "merged_df = df1.merge(df2[['abbreviation', 'fullname']], left_on='state', right_on='abbreviation', how='left')\n",
    "\n",
    "# Rename the 'fullname' column to 'state_fullname'\n",
    "merged_df = merged_df.rename(columns={'fullname': 'state_fullname'})\n",
    "\n",
    "# Drop the 'abbreviation' column if you don't need it\n",
    "merged_df = merged_df.drop(columns=['abbreviation'])\n",
    "\n",
    "# Save the merged dataframe to a new CSV file\n",
    "output_file = 'output_merged.csv'\n",
    "merged_df.to_csv(output_file, index=False)"
   ]
  },
  {
   "cell_type": "code",
   "execution_count": 9,
   "metadata": {},
   "outputs": [],
   "source": [
    "import pandas as pd\n",
    "\n",
    "# Load the CSV file\n",
    "file_name = 'output_merged.csv'  # Replace with your CSV file name\n",
    "df = pd.read_csv(file_name)\n",
    "\n",
    "# Count the number of entries for each unique value in the \"state_fullname\" column\n",
    "state_counts = df['state_fullname'].value_counts().reset_index()\n",
    "state_counts.columns = ['State', 'Cases']\n",
    "\n",
    "# Save the result to a new CSV file\n",
    "output_file = 'US Police shootings in from 2015-22 cases.csv'  # Replace with your desired output file name\n",
    "state_counts.to_csv(output_file, index=False)"
   ]
  },
  {
   "cell_type": "code",
   "execution_count": 6,
   "metadata": {},
   "outputs": [],
   "source": [
    "import pandas as pd\n",
    "\n",
    "# Load the CSV file\n",
    "file_name = 'US Police shootings in from 2015-22.csv'  # Replace with your CSV file name\n",
    "df = pd.read_csv(file_name)\n",
    "\n",
    "# Remove rows with any null values\n",
    "df = df.dropna(how='any')\n",
    "\n",
    "# Save the updated DataFrame to a new CSV file\n",
    "output_file = 'US Police shootings in from 2015-22 cleaned.csv'  # Replace with your desired output file name\n",
    "df.to_csv(output_file, index=False)"
   ]
  },
  {
   "cell_type": "code",
   "execution_count": 11,
   "metadata": {},
   "outputs": [
    {
     "name": "stdout",
     "output_type": "stream",
     "text": [
      "[{'category': 'White', 'value': 2583, 'percentage': 50.94674556213018}, {'category': 'Black', 'value': 1355, 'percentage': 26.7258382642998}, {'category': 'Hispanic', 'value': 924, 'percentage': 18.224852071005916}, {'category': 'Asian', 'value': 91, 'percentage': 1.7948717948717947}, {'category': 'Native', 'value': 75, 'percentage': 1.4792899408284024}, {'category': 'Others', 'value': 42, 'percentage': 0.8284023668639053}]\n"
     ]
    }
   ],
   "source": [
    "import pandas as pd\n",
    "\n",
    "# Read the CSV file into a DataFrame\n",
    "data = pd.read_csv('US Police shootings in from 2015-22 cleaned.csv')\n",
    "\n",
    "# Define a mapping from race code to full race name\n",
    "race_mapping = {\n",
    "    'H': 'Hispanic',\n",
    "    'A': 'Asian',\n",
    "    'W': 'White',\n",
    "    'B': 'Black',\n",
    "    'N': 'Native'\n",
    "}\n",
    "\n",
    "# Create a new 'Race' column with full race names, categorizing the rest as 'Others'\n",
    "data['Race'] = data['race'].map(race_mapping).fillna('Others')\n",
    "\n",
    "# Count the number of cases for each race\n",
    "race_counts = data['Race'].value_counts().reset_index()\n",
    "\n",
    "# Rename the columns to match the desired output format\n",
    "race_counts.columns = ['category', 'value']\n",
    "\n",
    "# Calculate the percentage for each race\n",
    "total_cases = race_counts['value'].sum()\n",
    "race_counts['percentage'] = (race_counts['value'] / total_cases) * 100\n",
    "\n",
    "# Convert the DataFrame to a list of dictionaries\n",
    "result = race_counts.to_dict(orient='records')\n",
    "\n",
    "# Print the result\n",
    "print(result)"
   ]
  }
 ],
 "metadata": {
  "kernelspec": {
   "display_name": "Python 3",
   "language": "python",
   "name": "python3"
  },
  "language_info": {
   "codemirror_mode": {
    "name": "ipython",
    "version": 3
   },
   "file_extension": ".py",
   "mimetype": "text/x-python",
   "name": "python",
   "nbconvert_exporter": "python",
   "pygments_lexer": "ipython3",
   "version": "3.8.8"
  }
 },
 "nbformat": 4,
 "nbformat_minor": 2
}
